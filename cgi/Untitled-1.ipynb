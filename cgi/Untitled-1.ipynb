{
    "cells": [
        {
            "cell_type": "code",
            "execution_count": 20,
            "source": [
                "import re\n",
                "\n",
                "oup_1 = '******Logged in successfullyPE Telnet server 1.1> read status o24 Outlet 24 on> quitGoodbye!'\n",
                "\n",
                "p_match = re.findall(r'\\>(.*) O', oup_1)\n",
                "p_match_1 = re.findall(r'4(.*)>', oup_1)\n",
                "\n",
                "print(p_match)\n",
                "print(p_match_1)"
            ],
            "outputs": [
                {
                    "output_type": "stream",
                    "name": "stdout",
                    "text": [
                        "['read status o24']\n",
                        "[' Outlet 24 on']\n"
                    ]
                }
            ],
            "metadata": {}
        }
    ],
    "metadata": {
        "orig_nbformat": 4,
        "language_info": {
            "name": "python",
            "version": "3.8.3",
            "mimetype": "text/x-python",
            "codemirror_mode": {
                "name": "ipython",
                "version": 3
            },
            "pygments_lexer": "ipython3",
            "nbconvert_exporter": "python",
            "file_extension": ".py"
        },
        "kernelspec": {
            "name": "python3",
            "display_name": "Python 3.8.3 64-bit"
        },
        "interpreter": {
            "hash": "082e9a3bcad0a290d0001e938aa60b99250c6c2ef33a923c00b70f9826caf4b7"
        }
    },
    "nbformat": 4,
    "nbformat_minor": 2
}